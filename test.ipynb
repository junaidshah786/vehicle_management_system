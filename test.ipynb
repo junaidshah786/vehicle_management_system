{
 "cells": [
  {
   "cell_type": "code",
   "execution_count": null,
   "id": "3408b070",
   "metadata": {},
   "outputs": [],
   "source": [
    "from openai import OpenAI\n",
    "from config import config\n",
    "client = OpenAI(api_key=config.openai_api_key)"
   ]
  },
  {
   "cell_type": "code",
   "execution_count": null,
   "id": "a88b98b7",
   "metadata": {},
   "outputs": [],
   "source": [
    "def fetch_product_description(item_name: str, item_category: str) -> str:\n",
    "    \"\"\"\n",
    "    Fetches product description based on item name and category.\n",
    "    \"\"\"\n",
    "\n",
    "            # Make API call with web search enabled\n",
    "    response = client.responses.create(\n",
    "            store = False,\n",
    "            model = \"gpt-4.1-mini\",\n",
    "            tools = [{\"type\": \"web_search_preview\"}],\n",
    "            input = [{\"role\": \"system\", \"content\": f\"Generate a product description for {item_name} in the category {item_category}.\"},\n",
    "                      {\"role\": \"user\", \"content\": f\"item_name: {item_name}, item_category: {item_category}\"}],\n",
    "            max_tokens = 1000,\n",
    "            stream = False  # Enable web search capability\n",
    "        )\n",
    "    return response.choices[0].message.content"
   ]
  }
 ],
 "metadata": {
  "kernelspec": {
   "display_name": "myenv",
   "language": "python",
   "name": "python3"
  },
  "language_info": {
   "name": "python",
   "version": "3.10.11"
  }
 },
 "nbformat": 4,
 "nbformat_minor": 5
}
